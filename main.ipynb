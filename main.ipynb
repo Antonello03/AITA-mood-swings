{
 "cells": [
  {
   "cell_type": "code",
   "execution_count": 1,
   "id": "06f76fe5",
   "metadata": {},
   "outputs": [],
   "source": [
    "import praw\n",
    "import requests\n",
    "import pandas as pd\n",
    "import json\n",
    "from datetime import datetime"
   ]
  },
  {
   "cell_type": "code",
   "execution_count": 4,
   "id": "ae1f8bba",
   "metadata": {},
   "outputs": [],
   "source": [
    "with open(\"../redditCredentials.json\", \"r\") as f:\n",
    "    credentials = json.load(f)"
   ]
  },
  {
   "cell_type": "code",
   "execution_count": 5,
   "id": "f2cdbf21",
   "metadata": {},
   "outputs": [],
   "source": [
    "reddit = praw.Reddit(client_id=credentials['CLIENT_ID'],\n",
    "                     client_secret=credentials['SECRET_TOKEN'],\n",
    "                     password=credentials['PASSWORD'],\n",
    "                     user_agent='AITA-analysis',\n",
    "     \n",
    "                     username=credentials['USERNAME'],\n",
    "                     check_for_async=False)"
   ]
  }
 ],
 "metadata": {
  "kernelspec": {
   "display_name": "venv",
   "language": "python",
   "name": "python3"
  },
  "language_info": {
   "codemirror_mode": {
    "name": "ipython",
    "version": 3
   },
   "file_extension": ".py",
   "mimetype": "text/x-python",
   "name": "python",
   "nbconvert_exporter": "python",
   "pygments_lexer": "ipython3",
   "version": "3.12.3"
  }
 },
 "nbformat": 4,
 "nbformat_minor": 5
}
