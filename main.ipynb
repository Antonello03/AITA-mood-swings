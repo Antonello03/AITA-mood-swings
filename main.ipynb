{
 "cells": [
  {
   "cell_type": "markdown",
   "id": "6246007c",
   "metadata": {},
   "source": [
    "# Imports and API configuration"
   ]
  },
  {
   "cell_type": "code",
   "execution_count": 1,
   "id": "06f76fe5",
   "metadata": {},
   "outputs": [],
   "source": [
    "import praw\n",
    "import requests\n",
    "import pandas as pd\n",
    "import json\n",
    "from tqdm import tqdm\n",
    "from datetime import datetime\n",
    "import os, datetime as dt\n",
    "import re\n",
    "import operator"
   ]
  },
  {
   "cell_type": "code",
   "execution_count": 2,
   "id": "ae1f8bba",
   "metadata": {},
   "outputs": [],
   "source": [
    "with open(\"../redditCredentials.json\", \"r\") as f:\n",
    "    credentials = json.load(f)"
   ]
  },
  {
   "cell_type": "code",
   "execution_count": 3,
   "id": "f2cdbf21",
   "metadata": {},
   "outputs": [],
   "source": [
    "reddit = praw.Reddit(client_id=credentials['CLIENT_ID'],\n",
    "                     client_secret=credentials['SECRET_TOKEN'],\n",
    "                     password=credentials['PASSWORD'],\n",
    "                     user_agent='AITA-analysis',\n",
    "                     username=credentials['USERNAME'],\n",
    "                     check_for_async=False)"
   ]
  },
  {
   "cell_type": "markdown",
   "id": "3680ae0a",
   "metadata": {},
   "source": [
    "# Gathering top submissions"
   ]
  },
  {
   "cell_type": "markdown",
   "id": "0077fc90",
   "metadata": {},
   "source": [
    "## A-HOLE"
   ]
  },
  {
   "cell_type": "code",
   "execution_count": 9,
   "id": "7037e2c6",
   "metadata": {},
   "outputs": [
    {
     "name": "stdout",
     "output_type": "stream",
     "text": [
      "30/250 iterations\n",
      "60/250 iterations\n",
      "90/250 iterations\n",
      "120/250 iterations\n",
      "150/250 iterations\n",
      "180/250 iterations\n",
      "210/250 iterations\n"
     ]
    }
   ],
   "source": [
    "submissions_data = []\n",
    "limit = 250\n",
    "query = 'flair:\"Asshole\"' \n",
    "subreddit = reddit.subreddit(\"AmItheAsshole\")\n",
    "\n",
    "accepted = 0 \n",
    "\n",
    "for submission in subreddit.search(query, sort=\"top\", time_filter=\"all\", limit=None):\n",
    "\n",
    "    flair = (submission.link_flair_text or '').lower().strip()\n",
    "    if not flair.startswith('asshole'):  \n",
    "        continue\n",
    "\n",
    "    accepted += 1\n",
    "    if accepted > limit:\n",
    "        break\n",
    "\n",
    "    if accepted % 30 == 0:\n",
    "        print(f\"{accepted}/{limit} iterations\")\n",
    "\n",
    "    submission_data = {\n",
    "        'author': getattr(submission, 'author', None),\n",
    "        'author_flair_text': getattr(submission, 'author_flair_text', None),\n",
    "        'clicked': submission.clicked,\n",
    "        'comments': submission.comments,\n",
    "        'created_utc': submission.created_utc,\n",
    "        'created_time': datetime.fromtimestamp(submission.created_utc),\n",
    "        'distinguished': submission.distinguished,\n",
    "        'edited': submission.edited,\n",
    "        'id': submission.id,\n",
    "        'is_original_content': submission.is_original_content,\n",
    "        'is_self': submission.is_self,\n",
    "        'link_flair_template_id': getattr(submission, 'link_flair_template_id', None),\n",
    "        'link_flair_text': getattr(submission, 'link_flair_text', None),\n",
    "        'locked': submission.locked,\n",
    "        'name': submission.name,\n",
    "        'num_comments': submission.num_comments,\n",
    "        'over_18': submission.over_18,\n",
    "        'permalink': submission.permalink,\n",
    "        'poll_data': getattr(submission, 'poll_data', None),\n",
    "        'saved': submission.saved,\n",
    "        'score': submission.score,\n",
    "        'selftext': getattr(submission, 'selftext', None),\n",
    "        'text': (submission.title or '') + (submission.selftext or ''),\n",
    "        'spoiler': submission.spoiler,\n",
    "        'stickied': submission.stickied,\n",
    "        'subreddit': str(submission.subreddit),\n",
    "        'title': submission.title,\n",
    "        'upvote_ratio': submission.upvote_ratio,\n",
    "        'url': submission.url\n",
    "    }\n",
    "\n",
    "    submissions_data.append(submission_data)\n"
   ]
  },
  {
   "cell_type": "code",
   "execution_count": 10,
   "id": "697ac139",
   "metadata": {},
   "outputs": [
    {
     "data": {
      "text/html": [
       "<div>\n",
       "<style scoped>\n",
       "    .dataframe tbody tr th:only-of-type {\n",
       "        vertical-align: middle;\n",
       "    }\n",
       "\n",
       "    .dataframe tbody tr th {\n",
       "        vertical-align: top;\n",
       "    }\n",
       "\n",
       "    .dataframe thead th {\n",
       "        text-align: right;\n",
       "    }\n",
       "</style>\n",
       "<table border=\"1\" class=\"dataframe\">\n",
       "  <thead>\n",
       "    <tr style=\"text-align: right;\">\n",
       "      <th></th>\n",
       "      <th>author</th>\n",
       "      <th>author_flair_text</th>\n",
       "      <th>clicked</th>\n",
       "      <th>comments</th>\n",
       "      <th>created_utc</th>\n",
       "      <th>created_time</th>\n",
       "      <th>distinguished</th>\n",
       "      <th>edited</th>\n",
       "      <th>id</th>\n",
       "      <th>is_original_content</th>\n",
       "      <th>...</th>\n",
       "      <th>saved</th>\n",
       "      <th>score</th>\n",
       "      <th>selftext</th>\n",
       "      <th>text</th>\n",
       "      <th>spoiler</th>\n",
       "      <th>stickied</th>\n",
       "      <th>subreddit</th>\n",
       "      <th>title</th>\n",
       "      <th>upvote_ratio</th>\n",
       "      <th>url</th>\n",
       "    </tr>\n",
       "  </thead>\n",
       "  <tbody>\n",
       "    <tr>\n",
       "      <th>0</th>\n",
       "      <td>aljsdhnrthrow</td>\n",
       "      <td>None</td>\n",
       "      <td>False</td>\n",
       "      <td>(etxbdfr, etx68zk, etx8185, etx5bcp, etxfk5p, ...</td>\n",
       "      <td>1.563292e+09</td>\n",
       "      <td>2019-07-16 17:41:11</td>\n",
       "      <td>None</td>\n",
       "      <td>False</td>\n",
       "      <td>cdypge</td>\n",
       "      <td>False</td>\n",
       "      <td>...</td>\n",
       "      <td>False</td>\n",
       "      <td>41140</td>\n",
       "      <td>\\nThrowaway because husband told me I was TA a...</td>\n",
       "      <td>AITA for telling cashier that wasn’t the girls...</td>\n",
       "      <td>False</td>\n",
       "      <td>False</td>\n",
       "      <td>AmItheAsshole</td>\n",
       "      <td>AITA for telling cashier that wasn’t the girls...</td>\n",
       "      <td>0.80</td>\n",
       "      <td>https://www.reddit.com/r/AmItheAsshole/comment...</td>\n",
       "    </tr>\n",
       "    <tr>\n",
       "      <th>1</th>\n",
       "      <td>Resident_Occasion</td>\n",
       "      <td>None</td>\n",
       "      <td>False</td>\n",
       "      <td>(ept96rx, ept96r0, ept9d6l, ept9b3v, ept92sj, ...</td>\n",
       "      <td>1.559485e+09</td>\n",
       "      <td>2019-06-02 16:10:33</td>\n",
       "      <td>None</td>\n",
       "      <td>1559509325.0</td>\n",
       "      <td>bvxqh8</td>\n",
       "      <td>False</td>\n",
       "      <td>...</td>\n",
       "      <td>False</td>\n",
       "      <td>40294</td>\n",
       "      <td>I'm the VP of Sales at a software company and ...</td>\n",
       "      <td>AITA For Firing An Employee After His Parents ...</td>\n",
       "      <td>False</td>\n",
       "      <td>False</td>\n",
       "      <td>AmItheAsshole</td>\n",
       "      <td>AITA For Firing An Employee After His Parents ...</td>\n",
       "      <td>0.81</td>\n",
       "      <td>https://www.reddit.com/r/AmItheAsshole/comment...</td>\n",
       "    </tr>\n",
       "    <tr>\n",
       "      <th>2</th>\n",
       "      <td>stupidtest_</td>\n",
       "      <td>None</td>\n",
       "      <td>False</td>\n",
       "      <td>(em2qfbb, em3wltp, em2rt45, em2iu7e, ensztri, ...</td>\n",
       "      <td>1.556556e+09</td>\n",
       "      <td>2019-04-29 18:35:09</td>\n",
       "      <td>None</td>\n",
       "      <td>1556583602.0</td>\n",
       "      <td>birkjn</td>\n",
       "      <td>False</td>\n",
       "      <td>...</td>\n",
       "      <td>False</td>\n",
       "      <td>38270</td>\n",
       "      <td>My wife is pregnant with our daughter. Initial...</td>\n",
       "      <td>WIBTA if I ask my pregnant wife to move out be...</td>\n",
       "      <td>False</td>\n",
       "      <td>False</td>\n",
       "      <td>AmItheAsshole</td>\n",
       "      <td>WIBTA if I ask my pregnant wife to move out be...</td>\n",
       "      <td>0.93</td>\n",
       "      <td>https://www.reddit.com/r/AmItheAsshole/comment...</td>\n",
       "    </tr>\n",
       "    <tr>\n",
       "      <th>3</th>\n",
       "      <td>chancecreator</td>\n",
       "      <td>None</td>\n",
       "      <td>False</td>\n",
       "      <td>(ftkwtow, ftkwdzs, ftkwv2h, ftkx0pa, ftkwgac, ...</td>\n",
       "      <td>1.591793e+09</td>\n",
       "      <td>2020-06-10 14:42:51</td>\n",
       "      <td>None</td>\n",
       "      <td>1591807453.0</td>\n",
       "      <td>h0a45w</td>\n",
       "      <td>False</td>\n",
       "      <td>...</td>\n",
       "      <td>False</td>\n",
       "      <td>37655</td>\n",
       "      <td>I have been living with my new wife and stepda...</td>\n",
       "      <td>AITA for telling my stepdaughter to stop using...</td>\n",
       "      <td>False</td>\n",
       "      <td>False</td>\n",
       "      <td>AmItheAsshole</td>\n",
       "      <td>AITA for telling my stepdaughter to stop using...</td>\n",
       "      <td>0.89</td>\n",
       "      <td>https://www.reddit.com/r/AmItheAsshole/comment...</td>\n",
       "    </tr>\n",
       "    <tr>\n",
       "      <th>4</th>\n",
       "      <td>ThrowRAhusband2</td>\n",
       "      <td>None</td>\n",
       "      <td>False</td>\n",
       "      <td>(j2wz0pb, j2wcv0r, j2wcd9v, j2wczu3, j2wbizm, ...</td>\n",
       "      <td>1.672833e+09</td>\n",
       "      <td>2023-01-04 12:45:15</td>\n",
       "      <td>None</td>\n",
       "      <td>False</td>\n",
       "      <td>1031mvi</td>\n",
       "      <td>False</td>\n",
       "      <td>...</td>\n",
       "      <td>False</td>\n",
       "      <td>37402</td>\n",
       "      <td>\\nI've been married to my 2nd Husband \"Mike\" f...</td>\n",
       "      <td>AITA for telling my parents that they ruined N...</td>\n",
       "      <td>False</td>\n",
       "      <td>False</td>\n",
       "      <td>AmItheAsshole</td>\n",
       "      <td>AITA for telling my parents that they ruined N...</td>\n",
       "      <td>0.70</td>\n",
       "      <td>https://www.reddit.com/r/AmItheAsshole/comment...</td>\n",
       "    </tr>\n",
       "  </tbody>\n",
       "</table>\n",
       "<p>5 rows × 29 columns</p>\n",
       "</div>"
      ],
      "text/plain": [
       "              author author_flair_text  clicked  \\\n",
       "0      aljsdhnrthrow              None    False   \n",
       "1  Resident_Occasion              None    False   \n",
       "2        stupidtest_              None    False   \n",
       "3      chancecreator              None    False   \n",
       "4    ThrowRAhusband2              None    False   \n",
       "\n",
       "                                            comments   created_utc  \\\n",
       "0  (etxbdfr, etx68zk, etx8185, etx5bcp, etxfk5p, ...  1.563292e+09   \n",
       "1  (ept96rx, ept96r0, ept9d6l, ept9b3v, ept92sj, ...  1.559485e+09   \n",
       "2  (em2qfbb, em3wltp, em2rt45, em2iu7e, ensztri, ...  1.556556e+09   \n",
       "3  (ftkwtow, ftkwdzs, ftkwv2h, ftkx0pa, ftkwgac, ...  1.591793e+09   \n",
       "4  (j2wz0pb, j2wcv0r, j2wcd9v, j2wczu3, j2wbizm, ...  1.672833e+09   \n",
       "\n",
       "         created_time distinguished        edited       id  \\\n",
       "0 2019-07-16 17:41:11          None         False   cdypge   \n",
       "1 2019-06-02 16:10:33          None  1559509325.0   bvxqh8   \n",
       "2 2019-04-29 18:35:09          None  1556583602.0   birkjn   \n",
       "3 2020-06-10 14:42:51          None  1591807453.0   h0a45w   \n",
       "4 2023-01-04 12:45:15          None         False  1031mvi   \n",
       "\n",
       "   is_original_content  ...  saved  score  \\\n",
       "0                False  ...  False  41140   \n",
       "1                False  ...  False  40294   \n",
       "2                False  ...  False  38270   \n",
       "3                False  ...  False  37655   \n",
       "4                False  ...  False  37402   \n",
       "\n",
       "                                            selftext  \\\n",
       "0  \\nThrowaway because husband told me I was TA a...   \n",
       "1  I'm the VP of Sales at a software company and ...   \n",
       "2  My wife is pregnant with our daughter. Initial...   \n",
       "3  I have been living with my new wife and stepda...   \n",
       "4  \\nI've been married to my 2nd Husband \"Mike\" f...   \n",
       "\n",
       "                                                text spoiler  stickied  \\\n",
       "0  AITA for telling cashier that wasn’t the girls...   False     False   \n",
       "1  AITA For Firing An Employee After His Parents ...   False     False   \n",
       "2  WIBTA if I ask my pregnant wife to move out be...   False     False   \n",
       "3  AITA for telling my stepdaughter to stop using...   False     False   \n",
       "4  AITA for telling my parents that they ruined N...   False     False   \n",
       "\n",
       "       subreddit                                              title  \\\n",
       "0  AmItheAsshole  AITA for telling cashier that wasn’t the girls...   \n",
       "1  AmItheAsshole  AITA For Firing An Employee After His Parents ...   \n",
       "2  AmItheAsshole  WIBTA if I ask my pregnant wife to move out be...   \n",
       "3  AmItheAsshole  AITA for telling my stepdaughter to stop using...   \n",
       "4  AmItheAsshole  AITA for telling my parents that they ruined N...   \n",
       "\n",
       "  upvote_ratio                                                url  \n",
       "0         0.80  https://www.reddit.com/r/AmItheAsshole/comment...  \n",
       "1         0.81  https://www.reddit.com/r/AmItheAsshole/comment...  \n",
       "2         0.93  https://www.reddit.com/r/AmItheAsshole/comment...  \n",
       "3         0.89  https://www.reddit.com/r/AmItheAsshole/comment...  \n",
       "4         0.70  https://www.reddit.com/r/AmItheAsshole/comment...  \n",
       "\n",
       "[5 rows x 29 columns]"
      ]
     },
     "execution_count": 10,
     "metadata": {},
     "output_type": "execute_result"
    }
   ],
   "source": [
    "df = pd.DataFrame(submissions_data)\n",
    "df.head()"
   ]
  },
  {
   "cell_type": "code",
   "execution_count": 11,
   "id": "74fa685f",
   "metadata": {},
   "outputs": [
    {
     "data": {
      "text/plain": [
       "link_flair_text\n",
       "Asshole    229\n",
       "Name: count, dtype: int64"
      ]
     },
     "execution_count": 11,
     "metadata": {},
     "output_type": "execute_result"
    }
   ],
   "source": [
    "df[\"link_flair_text\"].value_counts()"
   ]
  },
  {
   "cell_type": "code",
   "execution_count": null,
   "id": "653f3199",
   "metadata": {},
   "outputs": [],
   "source": [
    "# df.to_csv('top250AITA-a_hole.csv', index=False)"
   ]
  },
  {
   "cell_type": "markdown",
   "id": "2a66fcbe",
   "metadata": {},
   "source": [
    "## NOT A-HOLE"
   ]
  },
  {
   "cell_type": "code",
   "execution_count": 13,
   "id": "8acebb21",
   "metadata": {},
   "outputs": [
    {
     "name": "stdout",
     "output_type": "stream",
     "text": [
      "30/250 iterations\n",
      "60/250 iterations\n",
      "90/250 iterations\n",
      "120/250 iterations\n",
      "150/250 iterations\n",
      "180/250 iterations\n",
      "210/250 iterations\n"
     ]
    }
   ],
   "source": [
    "\"\"\"\n",
    "Collect up to 250 r/AmItheAsshole submissions whose flair starts with\n",
    "'Not the A-hole' (case-insensitive), including variants such as\n",
    "'Not the A-hole POO Mode'.\n",
    "\"\"\"\n",
    "\n",
    "from datetime import datetime\n",
    "import pandas as pd      # optional, only if you later build a DataFrame\n",
    "\n",
    "submissions_data = []\n",
    "limit = 250\n",
    "query = 'flair:\"Not the A-hole\"'       # substring search covers all variants\n",
    "subreddit = reddit.subreddit(\"AmItheAsshole\")\n",
    "\n",
    "accepted = 0                           # counts only the posts we keep\n",
    "\n",
    "for submission in subreddit.search(query, sort=\"top\", time_filter=\"all\", limit=None):\n",
    "\n",
    "    flair = (submission.link_flair_text or '').lower().strip()\n",
    "    if not flair.startswith('not the a-hole'):   # skip other flairs\n",
    "        continue\n",
    "\n",
    "    accepted += 1\n",
    "    if accepted > limit:\n",
    "        break\n",
    "\n",
    "    if accepted % 30 == 0:\n",
    "        print(f\"{accepted}/{limit} iterations\")\n",
    "\n",
    "    submission_data = {\n",
    "        'author': getattr(submission, 'author', None),\n",
    "        'author_flair_text': getattr(submission, 'author_flair_text', None),\n",
    "        'clicked': submission.clicked,\n",
    "        'comments': submission.comments,\n",
    "        'created_utc': submission.created_utc,\n",
    "        'created_time': datetime.fromtimestamp(submission.created_utc),\n",
    "        'distinguished': submission.distinguished,\n",
    "        'edited': submission.edited,\n",
    "        'id': submission.id,\n",
    "        'is_original_content': submission.is_original_content,\n",
    "        'is_self': submission.is_self,\n",
    "        'link_flair_template_id': getattr(submission, 'link_flair_template_id', None),\n",
    "        'link_flair_text': getattr(submission, 'link_flair_text', None),\n",
    "        'locked': submission.locked,\n",
    "        'name': submission.name,\n",
    "        'num_comments': submission.num_comments,\n",
    "        'over_18': submission.over_18,\n",
    "        'permalink': submission.permalink,\n",
    "        'poll_data': getattr(submission, 'poll_data', None),\n",
    "        'saved': submission.saved,\n",
    "        'score': submission.score,\n",
    "        'selftext': getattr(submission, 'selftext', None),\n",
    "        'text': (submission.title or '') + (submission.selftext or ''),\n",
    "        'spoiler': submission.spoiler,\n",
    "        'stickied': submission.stickied,\n",
    "        'subreddit': str(submission.subreddit),\n",
    "        'title': submission.title,\n",
    "        'upvote_ratio': submission.upvote_ratio,\n",
    "        'url': submission.url\n",
    "    }\n",
    "\n",
    "    submissions_data.append(submission_data)"
   ]
  },
  {
   "cell_type": "code",
   "execution_count": null,
   "id": "112111be",
   "metadata": {},
   "outputs": [],
   "source": [
    "# df = pd.DataFrame(submissions_data)\n",
    "# df.to_csv('top250AITA-not_a_hole.csv', index=False)"
   ]
  },
  {
   "cell_type": "markdown",
   "id": "6c1add7c",
   "metadata": {},
   "source": [
    "# Data Preprocessing"
   ]
  },
  {
   "cell_type": "code",
   "execution_count": 4,
   "id": "9312fcb0",
   "metadata": {},
   "outputs": [],
   "source": [
    "df_not_a_hole = pd.read_csv(\"top250AITA-not_a_hole.csv\")\n",
    "df_a_hole = pd.read_csv(\"top250AITA-a_hole.csv\")"
   ]
  },
  {
   "cell_type": "markdown",
   "id": "f3ce16e1",
   "metadata": {},
   "source": [
    "## Downsampling for a balanced time and flair distribution"
   ]
  },
  {
   "cell_type": "markdown",
   "id": "c428cadb",
   "metadata": {},
   "source": [
    "### removing 2024 and 2018 due to the low amount of samples"
   ]
  },
  {
   "cell_type": "code",
   "execution_count": 5,
   "id": "a317d6e9",
   "metadata": {},
   "outputs": [
    {
     "data": {
      "text/plain": [
       "created_time\n",
       "2022    62\n",
       "2020    58\n",
       "2019    44\n",
       "2021    39\n",
       "2023    30\n",
       "2024     1\n",
       "2018     1\n",
       "Name: count, dtype: int64"
      ]
     },
     "execution_count": 5,
     "metadata": {},
     "output_type": "execute_result"
    }
   ],
   "source": [
    "df_not_a_hole.created_time.apply(lambda x:x[:4]).value_counts()"
   ]
  },
  {
   "cell_type": "code",
   "execution_count": 6,
   "id": "6b0c6751",
   "metadata": {},
   "outputs": [
    {
     "data": {
      "text/plain": [
       "created_time\n",
       "2019    73\n",
       "2022    67\n",
       "2023    38\n",
       "2020    29\n",
       "2021    20\n",
       "2024     1\n",
       "2018     1\n",
       "Name: count, dtype: int64"
      ]
     },
     "execution_count": 6,
     "metadata": {},
     "output_type": "execute_result"
    }
   ],
   "source": [
    "df_a_hole.created_time.apply(lambda x:x[:4]).value_counts()"
   ]
  },
  {
   "cell_type": "code",
   "execution_count": 7,
   "id": "be19f779",
   "metadata": {},
   "outputs": [
    {
     "name": "stdout",
     "output_type": "stream",
     "text": [
      "227 233\n"
     ]
    }
   ],
   "source": [
    "df_not_a_hole = df_not_a_hole[~df_not_a_hole['created_time'].str.startswith(('2024', '2018'))]\n",
    "df_a_hole = df_a_hole[~df_a_hole['created_time'].str.startswith(('2024', '2018'))]\n",
    "df_a_hole.created_time.apply(lambda x:x[:4]).value_counts()\n",
    "print(len(df_a_hole), len(df_not_a_hole))"
   ]
  },
  {
   "cell_type": "markdown",
   "id": "1ce32a25",
   "metadata": {},
   "source": [
    "### removing lowest comments samples to have balanced flairs"
   ]
  },
  {
   "cell_type": "code",
   "execution_count": 11,
   "id": "cd3d4c8c",
   "metadata": {},
   "outputs": [
    {
     "name": "stdout",
     "output_type": "stream",
     "text": [
      "225 225 225\n"
     ]
    }
   ],
   "source": [
    "m = 225\n",
    "\n",
    "df_a_hole = df_a_hole.sort_values('num_comments', ascending=False).head(m).sort_values('created_time')\n",
    "df_not_a_hole = df_not_a_hole.sort_values('num_comments', ascending=False).head(m).sort_values('created_time')\n",
    "\n",
    "print(m, len(df_a_hole), len(df_not_a_hole))"
   ]
  },
  {
   "cell_type": "markdown",
   "id": "eee8a277",
   "metadata": {},
   "source": [
    "## Visualizing comment distribution"
   ]
  },
  {
   "cell_type": "code",
   "execution_count": 20,
   "id": "ff575b98",
   "metadata": {
    "vscode": {
     "languageId": "ruby"
    }
   },
   "outputs": [
    {
     "data": {
      "image/png": "[encoded data removed]",
      "text/plain": [
       "<Figure size 600x400 with 1 Axes>"
      ]
     },
     "metadata": {},
     "output_type": "display_data"
    }
   ],
   "source": [
    "import matplotlib.pyplot as plt\n",
    "\n",
    "data = [df_a_hole.num_comments, df_not_a_hole.num_comments]\n",
    "labels = ['A-hole', 'Not A-hole']\n",
    "\n",
    "plt.figure(figsize=(6,4))\n",
    "plt.boxplot(data, tick_labels = labels)\n",
    "plt.ylabel('Number of Comments')\n",
    "plt.title('Comment Counts by Verdict')\n",
    "plt.show()\n"
   ]
  },
  {
   "cell_type": "markdown",
   "id": "ebf121d3",
   "metadata": {},
   "source": [
    "## Concatenating the two df"
   ]
  },
  {
   "cell_type": "code",
   "execution_count": 26,
   "id": "f9f98492",
   "metadata": {},
   "outputs": [],
   "source": [
    "import pandas as pd\n",
    "import matplotlib.pyplot as plt\n",
    "\n",
    "# 1. Concatenate the two DataFrames\n",
    "df = pd.concat([df_a_hole, df_not_a_hole], ignore_index=True)\n",
    "\n",
    "# 2. Make sure created_time is datetime, then pull out the year\n",
    "df['created_time'] = pd.to_datetime(df['created_time'])      # if it isn’t already\n",
    "df['year'] = df['created_time'].dt.year                      # same as .astype(str).str[:4]"
   ]
  },
  {
   "cell_type": "code",
   "execution_count": 27,
   "id": "4dde8c98",
   "metadata": {},
   "outputs": [
    {
     "data": {
      "text/plain": [
       "link_flair_text\n",
       "Asshole           225\n",
       "Not the A-hole    225\n",
       "Name: count, dtype: int64"
      ]
     },
     "execution_count": 27,
     "metadata": {},
     "output_type": "execute_result"
    }
   ],
   "source": [
    "df[\"link_flair_text\"].value_counts()"
   ]
  },
  {
   "cell_type": "code",
   "execution_count": 30,
   "id": "ae9b93be",
   "metadata": {},
   "outputs": [
    {
     "data": {
      "image/png": "[encoded data removed]",
      "text/plain": [
       "<Figure size 600x400 with 1 Axes>"
      ]
     },
     "metadata": {},
     "output_type": "display_data"
    }
   ],
   "source": [
    "# keep the grouping code exactly as before …\n",
    "year_flair_counts = (\n",
    "    df.groupby(['year', 'link_flair_text'])\n",
    "      .size()\n",
    "      .unstack(fill_value=0)\n",
    "      .sort_index()\n",
    ")\n",
    "\n",
    "# make sure the columns are in the order you want\n",
    "year_flair_counts = year_flair_counts[['Asshole', 'Not the A-hole']]\n",
    "\n",
    "ax = year_flair_counts.plot(\n",
    "    kind='bar',\n",
    "    figsize=(6, 4),\n",
    "    color=['#1f77b4', \"#ff460e\"],   # ← force blue & orange\n",
    "    width=0.85\n",
    ")\n",
    "\n",
    "ax.set_xlabel('Year')\n",
    "ax.set_ylabel('Number of Submissions')\n",
    "ax.set_title('AITA Submissions per Year, by Verdict')\n",
    "ax.legend(title='link_flair_text')\n",
    "plt.tight_layout()\n",
    "plt.show()\n"
   ]
  },
  {
   "cell_type": "code",
   "execution_count": 31,
   "id": "87d37c51",
   "metadata": {},
   "outputs": [],
   "source": [
    "df.to_csv('top450-aita-balanced.csv', index=False)"
   ]
  },
  {
   "cell_type": "code",
   "execution_count": null,
   "id": "de3e7efc",
   "metadata": {},
   "outputs": [],
   "source": []
  }
 ],
 "metadata": {
  "kernelspec": {
   "display_name": "venv",
   "language": "python",
   "name": "python3"
  },
  "language_info": {
   "codemirror_mode": {
    "name": "ipython",
    "version": 3
   },
   "file_extension": ".py",
   "mimetype": "text/x-python",
   "name": "python",
   "nbconvert_exporter": "python",
   "pygments_lexer": "ipython3",
   "version": "3.12.3"
  }
 },
 "nbformat": 4,
 "nbformat_minor": 5
}
