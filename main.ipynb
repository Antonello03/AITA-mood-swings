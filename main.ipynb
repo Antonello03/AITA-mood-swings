{
 "cells": [
  {
   "cell_type": "code",
   "execution_count": 2,
   "id": "06f76fe5",
   "metadata": {},
   "outputs": [],
   "source": [
    "import praw\n",
    "import requests\n",
    "import pandas as pd\n",
    "import json\n",
    "from tqdm import tqdm\n",
    "from datetime import datetime\n",
    "import os, datetime as dt"
   ]
  },
  {
   "cell_type": "code",
   "execution_count": 3,
   "id": "ae1f8bba",
   "metadata": {},
   "outputs": [],
   "source": [
    "with open(\"../redditCredentials.json\", \"r\") as f:\n",
    "    credentials = json.load(f)"
   ]
  },
  {
   "cell_type": "code",
   "execution_count": 4,
   "id": "f2cdbf21",
   "metadata": {},
   "outputs": [],
   "source": [
    "reddit = praw.Reddit(client_id=credentials['CLIENT_ID'],\n",
    "                     client_secret=credentials['SECRET_TOKEN'],\n",
    "                     password=credentials['PASSWORD'],\n",
    "                     user_agent='AITA-analysis',\n",
    "                     username=credentials['USERNAME'],\n",
    "                     check_for_async=False)"
   ]
  },
  {
   "cell_type": "markdown",
   "id": "3680ae0a",
   "metadata": {},
   "source": [
    "# Gathering 1000 top posts of the last year"
   ]
  },
  {
   "cell_type": "code",
   "execution_count": null,
   "id": "7037e2c6",
   "metadata": {},
   "outputs": [
    {
     "name": "stderr",
     "output_type": "stream",
     "text": [
      "Posts processed:   0%|          | 0/500 [00:00<?, ?it/s]"
     ]
    },
    {
     "name": "stderr",
     "output_type": "stream",
     "text": [
      "Posts processed: 100%|██████████| 500/500 [30:45<00:00,  3.69s/it]\n"
     ]
    }
   ],
   "source": [
    "# Create an empty list to save all the element/dictionary\n",
    "submissions_data = []\n",
    "\n",
    "for submission in tqdm(\n",
    "        reddit.subreddit(\"AmItheAsshole\").top(limit=500, time_filter=\"year\"),\n",
    "        total=500,\n",
    "        desc=\"Posts processed\"):\n",
    "    submission_data = {\n",
    "        'author': '',\n",
    "        'author_flair_text': '',\n",
    "        'clicked': submission.clicked,\n",
    "        'comments': submission.comments,\n",
    "        'created_utc': submission.created_utc,\n",
    "        'created_time': datetime.fromtimestamp(submission.created_utc),\n",
    "        'distinguished': submission.distinguished,\n",
    "        'edited': submission.edited,\n",
    "        'id': submission.id,\n",
    "        'is_original_content': submission.is_original_content,\n",
    "        'is_self': submission.is_self,\n",
    "        'link_flair_template_id': '',\n",
    "        'link_flair_text': '',\n",
    "        'locked': submission.locked,\n",
    "        'name': submission.name,\n",
    "        'num_comments': submission.num_comments,\n",
    "        'over_18': submission.over_18,\n",
    "        'permalink': submission.permalink,\n",
    "        'poll_data': '',\n",
    "        'saved': submission.saved,\n",
    "        'score': submission.score,\n",
    "        'selftext': '',\n",
    "        'text': '',\n",
    "        'spoiler': submission.spoiler,\n",
    "        'stickied': submission.stickied,\n",
    "        'subreddit': submission.subreddit,\n",
    "        'title': submission.title,\n",
    "        'upvote_ratio': submission.upvote_ratio,\n",
    "        'url': submission.url\n",
    "    }\n",
    "\n",
    "    try:\n",
    "        submission_data['poll_data'] = submission.poll_data\n",
    "    except AttributeError:\n",
    "        pass\n",
    "    \n",
    "    try:\n",
    "        submission_data['author'] = submission.author\n",
    "    except AttributeError:\n",
    "        pass\n",
    "\n",
    "    try:\n",
    "        submission_data['author_flair_text'] = submission.author_flair_text\n",
    "    except AttributeError:\n",
    "        pass\n",
    "\n",
    "    try:\n",
    "        submission_data['link_flair_text'] = submission.link_flair_text\n",
    "    except AttributeError:\n",
    "        pass\n",
    "\n",
    "    try:\n",
    "        submission_data['link_flair_template_id'] = submission.link_flair_template_id\n",
    "    except AttributeError:\n",
    "        pass\n",
    "\n",
    "    try:\n",
    "        submission_data['selftext'] = submission.selftext\n",
    "    except AttributeError:\n",
    "        pass\n",
    "\n",
    "    try:\n",
    "        submission_data['text'] = submission.title + submission.selftext if pd.notna(submission.selftext) else submission.title\n",
    "    except AttributeError:\n",
    "        pass\n",
    "\n",
    "    submissions_data.append(submission_data)"
   ]
  },
  {
   "cell_type": "code",
   "execution_count": null,
   "id": "697ac139",
   "metadata": {},
   "outputs": [],
   "source": [
    "#df = pd.DataFrame(submissions_data)"
   ]
  },
  {
   "cell_type": "code",
   "execution_count": null,
   "id": "653f3199",
   "metadata": {},
   "outputs": [],
   "source": [
    "# df.to_csv('top2000AITAlastyearSubmission.csv', index=False)"
   ]
  },
  {
   "cell_type": "code",
   "execution_count": null,
   "id": "9312fcb0",
   "metadata": {},
   "outputs": [],
   "source": [
    "df = pd.read_csv(\"top2000AITAlastyearSubmission.csv\")"
   ]
  },
  {
   "cell_type": "code",
   "execution_count": null,
   "id": "22523281",
   "metadata": {},
   "outputs": [
    {
     "data": {
      "text/plain": [
       "link_flair_text\n",
       "Not the A-hole              419\n",
       "Not the A-hole POO Mode      24\n",
       "Asshole                      15\n",
       "Everyone Sucks               11\n",
       "Not enough info              10\n",
       "No A-holes here               5\n",
       "Asshole POO Mode              5\n",
       "UPDATE                        4\n",
       "                              2\n",
       "Not enough info POO Mode      2\n",
       "No A-holes here POO Mode      1\n",
       "Everyone Sucks POO Mode       1\n",
       "Name: count, dtype: int64"
      ]
     },
     "execution_count": 16,
     "metadata": {},
     "output_type": "execute_result"
    }
   ],
   "source": [
    "df[\"link_flair_text\"].value_counts()"
   ]
  },
  {
   "cell_type": "code",
   "execution_count": 40,
   "id": "fa452a0b",
   "metadata": {},
   "outputs": [
    {
     "data": {
      "image/png": "[encoded data removed]",
      "text/plain": [
       "<Figure size 800x400 with 1 Axes>"
      ]
     },
     "metadata": {},
     "output_type": "display_data"
    }
   ],
   "source": [
    "import matplotlib.pyplot as plt\n",
    "\n",
    "# Suppose df[\"created_time\"] is already a datetime64 column.\n",
    "# Step 1: convert to month‐period, then back to a Timestamp (e.g. 2025-06-01)\n",
    "df[\"created_month\"] = df[\"created_time\"].dt.to_period(\"M\").dt.to_timestamp()\n",
    "\n",
    "# Step 2: plot a histogram of those Timestamps\n",
    "plt.figure(figsize=(8,4))\n",
    "plt.hist(df[\"created_month\"], bins=20)      # choose bins as you like (e.g. 12, 24, etc.)\n",
    "plt.xlabel(\"Month\")\n",
    "plt.ylabel(\"Number of items\")\n",
    "plt.title(\"Histogram of items by month\")\n",
    "plt.xticks(rotation=45)\n",
    "plt.tight_layout()\n",
    "plt.show()\n"
   ]
  }
 ],
 "metadata": {
  "kernelspec": {
   "display_name": "venv",
   "language": "python",
   "name": "python3"
  },
  "language_info": {
   "codemirror_mode": {
    "name": "ipython",
    "version": 3
   },
   "file_extension": ".py",
   "mimetype": "text/x-python",
   "name": "python",
   "nbconvert_exporter": "python",
   "pygments_lexer": "ipython3",
   "version": "3.12.3"
  }
 },
 "nbformat": 4,
 "nbformat_minor": 5
}
